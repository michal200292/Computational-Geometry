{
 "cells": [
  {
   "cell_type": "code",
   "execution_count": null,
   "metadata": {
    "collapsed": true
   },
   "outputs": [],
   "source": [
    "import random\n",
    "\n",
    "import numpy as np\n",
    "import matplotlib.pyplot as plt\n",
    "import matplotlib.collections as mcoll\n",
    "import matplotlib.colors as mcolors\n",
    "from matplotlib.widgets import Button\n",
    "import json as js\n",
    "\n",
    "TOLERANCE = 0.15\n",
    "\n",
    "def dist(point1, point2):\n",
    "    return np.sqrt(np.power(point1[0] - point2[0], 2) + np.power(point1[1] - point2[1], 2))\n",
    "\n",
    "class _Button_callback(object):\n",
    "    def __init__(self, scenes):\n",
    "        self.i = 0\n",
    "        self.scenes = scenes\n",
    "        self.adding_points = False\n",
    "        self.added_points = []\n",
    "        self.adding_lines = False\n",
    "        self.added_lines = []\n",
    "        self.adding_rects = False\n",
    "        self.added_rects = []\n",
    "\n",
    "    def set_axes(self, ax):\n",
    "        self.ax = ax\n",
    "\n",
    "    def next(self, event):\n",
    "        self.i = (self.i + 1) % len(self.scenes)\n",
    "        self.draw(autoscaling = True)\n",
    "\n",
    "    def prev(self, event):\n",
    "        self.i = (self.i - 1) % len(self.scenes)\n",
    "        self.draw(autoscaling = True)\n",
    "\n",
    "    def add_point(self, event):\n",
    "        self.adding_points = not self.adding_points\n",
    "        self.new_line_point = None\n",
    "        if self.adding_points:\n",
    "            self.adding_lines = False\n",
    "            self.adding_rects = False\n",
    "            self.added_points.append(PointsCollection([]))\n",
    "\n",
    "    def add_line(self, event):\n",
    "        self.adding_lines = not self.adding_lines\n",
    "        self.new_line_point = None\n",
    "        if self.adding_lines:\n",
    "            self.adding_points = False\n",
    "            self.adding_rects = False\n",
    "            self.added_lines.append(LinesCollection([]))\n",
    "\n",
    "    def add_rect(self, event):\n",
    "        self.adding_rects = not self.adding_rects\n",
    "        self.new_line_point = None\n",
    "        if self.adding_rects:\n",
    "            self.adding_points = False\n",
    "            self.adding_lines = False\n",
    "            self.new_rect()\n",
    "\n",
    "    def new_rect(self):\n",
    "        self.added_rects.append(LinesCollection([]))\n",
    "        self.rect_points = []\n",
    "\n",
    "    def on_click(self, event):\n",
    "        if event.inaxes != self.ax:\n",
    "            return\n",
    "        new_point = (event.xdata, event.ydata)\n",
    "        if self.adding_points:\n",
    "            self.added_points[-1].add_points([new_point])\n",
    "            self.draw(autoscaling = False)\n",
    "        elif self.adding_lines:\n",
    "            if self.new_line_point is not None:\n",
    "                self.added_lines[-1].add([self.new_line_point, new_point])\n",
    "                self.new_line_point = None\n",
    "                self.draw(autoscaling = False)\n",
    "            else:\n",
    "                self.new_line_point = new_point\n",
    "        elif self.adding_rects:\n",
    "            if len(self.rect_points) == 0:\n",
    "                self.rect_points.append(new_point)\n",
    "            elif len(self.rect_points) == 1:\n",
    "                self.added_rects[-1].add([self.rect_points[-1], new_point])\n",
    "                self.rect_points.append(new_point)\n",
    "                self.draw(autoscaling = False)\n",
    "            elif len(self.rect_points) > 1:\n",
    "                if dist(self.rect_points[0], new_point) < (np.mean([self.ax.get_xlim(), self.ax.get_ylim()])*TOLERANCE):\n",
    "                    self.added_rects[-1].add([self.rect_points[-1], self.rect_points[0]])\n",
    "                    self.new_rect()\n",
    "                else:\n",
    "                    self.added_rects[-1].add([self.rect_points[-1], new_point])\n",
    "                    self.rect_points.append(new_point)\n",
    "                self.draw(autoscaling = False)\n",
    "\n",
    "    def draw(self, autoscaling = True):\n",
    "        if not autoscaling:\n",
    "            xlim = self.ax.get_xlim()\n",
    "            ylim = self.ax.get_ylim()\n",
    "        self.ax.clear()\n",
    "        for collection in (self.scenes[self.i].points + self.added_points):\n",
    "            if len(collection.points) > 0:\n",
    "                self.ax.scatter(*zip(*(np.array(collection.points))), **collection.kwargs)\n",
    "        for collection in (self.scenes[self.i].lines + self.added_lines + self.added_rects):\n",
    "            self.ax.add_collection(collection.get_collection())\n",
    "        self.ax.autoscale(autoscaling)\n",
    "        if not autoscaling:\n",
    "            self.ax.set_xlim(xlim)\n",
    "            self.ax.set_ylim(ylim)\n",
    "        plt.draw()"
   ]
  },
  {
   "cell_type": "code",
   "execution_count": null,
   "outputs": [],
   "source": [
    "class Scene:\n",
    "    def __init__(self, points=[], lines=[]):\n",
    "        self.points=points\n",
    "        self.lines=lines\n",
    "\n",
    "class PointsCollection:\n",
    "    def __init__(self, points, **kwargs):\n",
    "        self.points = points\n",
    "        self.kwargs = kwargs\n",
    "\n",
    "    def add_points(self, points):\n",
    "        self.points = self.points + points\n",
    "\n",
    "class LinesCollection:\n",
    "    def __init__(self, lines, **kwargs):\n",
    "        self.lines = lines\n",
    "        self.kwargs = kwargs\n",
    "\n",
    "    def add(self, line):\n",
    "        self.lines.append(line)\n",
    "\n",
    "    def get_collection(self):\n",
    "        return mcoll.LineCollection(self.lines, **self.kwargs)\n",
    "\n",
    "class Plot:\n",
    "    def __init__(self, scenes = [Scene()], points = [], lines = [], json = None):\n",
    "        if json is None:\n",
    "            self.scenes = scenes\n",
    "            if points or lines:\n",
    "                self.scenes[0].points = points\n",
    "                self.scenes[0].lines = lines\n",
    "        else:\n",
    "            self.scenes = [Scene([PointsCollection(pointsCol) for pointsCol in scene[\"points\"]],\n",
    "                                 [LinesCollection(linesCol) for linesCol in scene[\"lines\"]])\n",
    "                           for scene in js.loads(json)]\n",
    "\n",
    "    def __configure_buttons(self):\n",
    "        plt.subplots_adjust(bottom=0.2)\n",
    "        ax_prev = plt.axes([0.6, 0.05, 0.15, 0.075])\n",
    "        ax_next = plt.axes([0.76, 0.05, 0.15, 0.075])\n",
    "        ax_add_point = plt.axes([0.44, 0.05, 0.15, 0.075])\n",
    "        ax_add_line = plt.axes([0.28, 0.05, 0.15, 0.075])\n",
    "        ax_add_rect = plt.axes([0.12, 0.05, 0.15, 0.075])\n",
    "        b_next = Button(ax_next, 'Następny')\n",
    "        b_next.on_clicked(self.callback.next)\n",
    "        b_prev = Button(ax_prev, 'Poprzedni')\n",
    "        b_prev.on_clicked(self.callback.prev)\n",
    "        b_add_point = Button(ax_add_point, 'Dodaj punkt')\n",
    "        b_add_point.on_clicked(self.callback.add_point)\n",
    "        b_add_line = Button(ax_add_line, 'Dodaj linię')\n",
    "        b_add_line.on_clicked(self.callback.add_line)\n",
    "        b_add_rect = Button(ax_add_rect, 'Dodaj figurę')\n",
    "        b_add_rect.on_clicked(self.callback.add_rect)\n",
    "        return [b_prev, b_next, b_add_point, b_add_line, b_add_rect]\n",
    "\n",
    "    def add_scene(self, scene):\n",
    "        self.scenes.append(scene)\n",
    "\n",
    "    def add_scenes(self, scenes):\n",
    "        self.scenes = self.scenes + scenes\n",
    "\n",
    "    def toJson(self):\n",
    "        return js.dumps([{\"points\": [np.array(pointCol.points).tolist() for pointCol in scene.points],\n",
    "                          \"lines\":[linesCol.lines for linesCol in scene.lines]}\n",
    "                         for scene in self.scenes])\n",
    "\n",
    "    def get_added_points(self):\n",
    "        if self.callback:\n",
    "            return self.callback.added_points\n",
    "        else:\n",
    "            return None\n",
    "\n",
    "    def get_added_lines(self):\n",
    "        if self.callback:\n",
    "            return self.callback.added_lines\n",
    "        else:\n",
    "            return None\n",
    "\n",
    "    def get_added_figure(self):\n",
    "        if self.callback:\n",
    "            return self.callback.added_rects\n",
    "        else:\n",
    "            return None\n",
    "\n",
    "    def get_added_elements(self):\n",
    "        if self.callback:\n",
    "            return Scene(self.callback.added_points, self.callback.added_lines+self.callback.added_rects)\n",
    "        else:\n",
    "            return None\n",
    "\n",
    "    def draw(self):\n",
    "        plt.close()\n",
    "        fig = plt.figure()\n",
    "        self.callback = _Button_callback(self.scenes)\n",
    "        # self.widgets = self.__configure_buttons()\n",
    "        ax = plt.axes(autoscale_on = False)\n",
    "        self.callback.set_axes(ax)\n",
    "        fig.canvas.mpl_connect('button_press_event', self.callback.on_click)\n",
    "        plt.show()\n",
    "        self.callback.draw()"
   ],
   "metadata": {
    "collapsed": false
   }
  },
  {
   "cell_type": "markdown",
   "source": [
    "# ROZWIĄZANIE LAB1"
   ],
   "metadata": {
    "collapsed": false
   }
  },
  {
   "cell_type": "markdown",
   "source": [
    "### Zbiór 1: 10^5^ losowych punktów z przedziału [-1000, 1000]"
   ],
   "metadata": {
    "collapsed": false
   }
  },
  {
   "cell_type": "code",
   "execution_count": null,
   "outputs": [],
   "source": [
    "%matplotlib notebook\n",
    "\n",
    "points_a = [(random.uniform(-1000, 1000), random.uniform(-1000, 1000)) for _ in range(pow(10, 5))]\n",
    "\n",
    "plot_a = Plot(points=[PointsCollection(points_a)])\n",
    "plot_a.draw()\n"
   ],
   "metadata": {
    "collapsed": false
   }
  },
  {
   "cell_type": "markdown",
   "source": [
    "### Zbiór 2: 10^5^ losowych punktów z przedziału [-10^14^, 10^14^]"
   ],
   "metadata": {
    "collapsed": false
   }
  },
  {
   "cell_type": "code",
   "execution_count": null,
   "outputs": [],
   "source": [
    "%matplotlib notebook\n",
    "\n",
    "m = pow(10, 14)\n",
    "points_b = [(random.uniform(-m, m), random.uniform(-m, m)) for _ in range(pow(10, 5))]\n",
    "\n",
    "plot_b = Plot(points=[PointsCollection(points_b)])\n",
    "plot_b.draw()"
   ],
   "metadata": {
    "collapsed": false
   }
  },
  {
   "cell_type": "markdown",
   "source": [
    "### Zbiór 3: 1000 losowych punktów na okręgu o środku (0, 0) i promieniu R = 100"
   ],
   "metadata": {
    "collapsed": false
   }
  },
  {
   "cell_type": "code",
   "execution_count": null,
   "outputs": [],
   "source": [
    "%matplotlib notebook\n",
    "\n",
    "from math import sin, cos, pi\n",
    "def circle_point(t, R):\n",
    "    return R*sin(2*pi*t), R*cos(2*pi*t)\n",
    "\n",
    "R = 100\n",
    "circle = [circle_point(random.uniform(0, 1), R) for _ in range(1000)]\n",
    "circle_plot = Plot(points=[PointsCollection(circle)])\n",
    "circle_plot.draw()"
   ],
   "metadata": {
    "collapsed": false
   }
  },
  {
   "cell_type": "markdown",
   "source": [
    "### Zbiór 4: 1000 losowych punktów leżących na prostej wyznaczonej przez wektor (a, b)"
   ],
   "metadata": {
    "collapsed": false
   }
  },
  {
   "cell_type": "code",
   "execution_count": null,
   "outputs": [],
   "source": [
    "%matplotlib notebook\n",
    "\n",
    "A = (-1, 0)\n",
    "B = (1, 0.1)\n",
    "w_a = (A[1] - B[1]) / (A[0] - B[0])\n",
    "w_b = A[1] - w_a*A[0]\n",
    "# Równanie prostej (a, b)\n",
    "def vector(x):\n",
    "    return x, w_a*x + w_b\n",
    "\n",
    "points_line = [vector(random.uniform(-1000, 1000)) for _ in range(1000)]\n",
    "line_plot = Plot(points=[PointsCollection(points_line)])\n",
    "line_plot.draw()"
   ],
   "metadata": {
    "collapsed": false
   }
  },
  {
   "cell_type": "markdown",
   "source": [
    "### Implementacje obliczania wyznaczników 2x2 oraz 3x3"
   ],
   "metadata": {
    "collapsed": false
   }
  },
  {
   "cell_type": "code",
   "execution_count": null,
   "outputs": [],
   "source": [
    "def det_1(c):\n",
    "    return (A[0] - c[0])*(B[1] - c[1]) - (B[0] - c[0])*(A[1] - c[1])\n",
    "\n",
    "# Metoda Sarrusa\n",
    "def det_2(c):\n",
    "    return (A[0]*B[1] + A[1]*c[0] + B[0]*c[1] -\n",
    "            c[0]*B[1] - A[0]*c[1] - B[0]*A[1])\n"
   ],
   "metadata": {
    "collapsed": false
   }
  },
  {
   "cell_type": "markdown",
   "source": [
    "### Funkcje do obliczania wyznacznikow 2x2 oraz 3x3 z wykorzystaniem numpy"
   ],
   "metadata": {
    "collapsed": false
   }
  },
  {
   "cell_type": "code",
   "execution_count": null,
   "outputs": [],
   "source": [
    "def det_3(c):\n",
    "    return np.linalg.det(np.array([[A[0] - c[0], A[1] - c[1]], [B[0] - c[0], B[1] - c[1]]]))\n",
    "\n",
    "def det_4(c):\n",
    "    return np.linalg.det(np.array([[A[0], A[1], 1], [B[0], B[1], 1], [c[0], c[1], 1]]))"
   ],
   "metadata": {
    "collapsed": false
   }
  },
  {
   "cell_type": "markdown",
   "source": [
    "### Funkcja rozdzielająca punkty według położenia względem prostej\n"
   ],
   "metadata": {
    "collapsed": false
   }
  },
  {
   "cell_type": "code",
   "execution_count": null,
   "outputs": [],
   "source": [
    "# Funckja przyjmuje zbiór punktów według, którego należy dokonać podziału,\n",
    "# epsilon określający tolerancje dla zera\n",
    "# oraz funckje lambda det, która oblicza wyznacznik według określonej metody\n",
    "# parametry prostej są globalne\n",
    "%matplotlib notebook\n",
    "def categorize(points, det, eps):\n",
    "    left, right, line = [], [], []\n",
    "    for point in points:\n",
    "        d = det(point)\n",
    "        if abs(d) < eps:\n",
    "            line.append(point)\n",
    "        elif d > 0:\n",
    "            left.append(point)\n",
    "        else:\n",
    "            right.append(point)\n",
    "\n",
    "    return Plot(points=[PointsCollection(left, color=\"green\"), PointsCollection(line, color=\"red\"), PointsCollection(right, color=\"blue\")]), len(left), len(right), len(line)"
   ],
   "metadata": {
    "collapsed": false
   }
  },
  {
   "cell_type": "markdown",
   "source": [
    "### Funkcja do znajdywania różnic w wykresach"
   ],
   "metadata": {
    "collapsed": false
   }
  },
  {
   "cell_type": "code",
   "execution_count": null,
   "outputs": [],
   "source": [
    "def compare(points, dets, eps):\n",
    "    dif = []\n",
    "    for point in points:\n",
    "        values = [det(point) for det in dets]\n",
    "        for i in range(len(dets)):\n",
    "            if abs(values[i]) < eps:\n",
    "                values[i] = 0\n",
    "            elif values[i] > 0:\n",
    "                values[i] = 1\n",
    "            else:\n",
    "                values[i] = -1\n",
    "        for i in range(1, len(dets)):\n",
    "            if values[i] != values[i-1]:\n",
    "                dif.append(point)\n",
    "                break\n",
    "    return Plot(points=[PointsCollection(dif, color=\"blue\")])\n",
    "\n"
   ],
   "metadata": {
    "collapsed": false
   }
  },
  {
   "cell_type": "markdown",
   "source": [
    "### Porównanie wyznaczników i tolerancji dla zbioru A"
   ],
   "metadata": {
    "collapsed": false
   }
  },
  {
   "cell_type": "code",
   "execution_count": null,
   "outputs": [],
   "source": [
    "%matplotlib notebook\n",
    "tolerance = [pow(10, -12), pow(10, -14), pow(10, -16)]\n",
    "functions = [lambda x: det_1(x), lambda x: det_2(x), lambda x: det_3(x), lambda x: det_4(x)]\n",
    "for foo in functions:\n",
    "    for eps in tolerance:\n",
    "        plot, l, r, li = categorize(points_a, foo, eps)\n",
    "        print(l, r, li)\n",
    "\n",
    "categorize(points_a, functions[0], tolerance[0])[0].draw()\n"
   ],
   "metadata": {
    "collapsed": false
   }
  },
  {
   "cell_type": "code",
   "execution_count": null,
   "outputs": [],
   "source": [
    "%matplotlib notebook\n",
    "for foo in functions:\n",
    "    for eps in tolerance:\n",
    "        plot, l, r, li = categorize(points_b, foo, eps)\n",
    "        print(l, r, li)\n",
    "\n",
    "categorize(points_b, functions[0], tolerance[0])[0].draw()"
   ],
   "metadata": {
    "collapsed": false
   }
  },
  {
   "cell_type": "code",
   "execution_count": null,
   "outputs": [],
   "source": [
    "%matplotlib notebook\n",
    "plot, l, r, li = categorize(points_b, functions[0], tolerance[2])\n",
    "plot.draw()\n",
    "print(l, r, li)"
   ],
   "metadata": {
    "collapsed": false
   }
  },
  {
   "cell_type": "code",
   "execution_count": null,
   "outputs": [],
   "source": [
    "%matplotlib notebook\n",
    "for foo in functions:\n",
    "    for eps in tolerance:\n",
    "        plot, l, r, li = categorize(circle, foo, eps)\n",
    "        print(l, r, li)\n",
    "\n",
    "categorize(circle, functions[0], tolerance[0])[0].draw()"
   ],
   "metadata": {
    "collapsed": false
   }
  },
  {
   "cell_type": "code",
   "execution_count": null,
   "outputs": [],
   "source": [
    "%matplotlib notebook\n",
    "for foo in functions:\n",
    "    for eps in tolerance:\n",
    "        plot, l, r, li = categorize(points_line, foo, eps)\n",
    "        print(l, r, li)\n",
    "\n",
    "categorize(points_line, functions[0], tolerance[0])[0].draw()"
   ],
   "metadata": {
    "collapsed": false
   }
  },
  {
   "cell_type": "code",
   "execution_count": null,
   "outputs": [],
   "source": [
    "%matplotlib notebook\n",
    "\n",
    "categorize(points_line, functions[0], tolerance[2])[0].draw()"
   ],
   "metadata": {
    "collapsed": false
   }
  },
  {
   "cell_type": "code",
   "execution_count": null,
   "outputs": [],
   "source": [
    "%matplotlib notebook\n",
    "compare(points_line, functions, tolerance[1]).draw()"
   ],
   "metadata": {
    "collapsed": false
   }
  },
  {
   "cell_type": "code",
   "execution_count": null,
   "outputs": [],
   "source": [
    "%matplotlib notebook\n",
    "compare(points_line, [functions[2], functions[3]], tolerance[1]).draw()"
   ],
   "metadata": {
    "collapsed": false
   }
  },
  {
   "cell_type": "code",
   "execution_count": null,
   "outputs": [],
   "source": [
    "%matplotlib notebook\n",
    "for foo in functions:\n",
    "    plot, l, r, li = categorize(points_line, foo, pow(10, -10))\n",
    "    print(l, r, li)"
   ],
   "metadata": {
    "collapsed": false
   }
  },
  {
   "cell_type": "code",
   "execution_count": null,
   "outputs": [],
   "source": [
    "from time import time\n",
    "points_1 = [(random.uniform(-1000, 1000), random.uniform(-1000, 1000)) for _ in range(pow(10, 5))]\n",
    "points_2 = [(random.uniform(-1000, 1000), random.uniform(-1000, 1000)) for _ in range(5*pow(10, 5))]\n",
    "points_3 = [(random.uniform(-1000, 1000), random.uniform(-1000, 1000)) for _ in range(pow(10, 6))]\n",
    "\n",
    "sets = [points_1, points_2, points_3]\n",
    "t = [[0 for _ in range(4)] for _ in range(3)]\n",
    "for _ in range(3):\n",
    "    i = 0\n",
    "    for p in sets:\n",
    "        j = 0\n",
    "        for foo in functions:\n",
    "            t1 = time()\n",
    "            categorize(p, foo, tolerance[0])\n",
    "            t2 = time()\n",
    "            t[i][j] += (t2 - t1)\n",
    "            j += 1\n",
    "        i += 1\n",
    "\n",
    "for i in range(3):\n",
    "    for j in range(4):\n",
    "        print(round(t[i][j] / 3, 4))"
   ],
   "metadata": {
    "collapsed": false
   }
  }
 ],
 "metadata": {
  "kernelspec": {
   "display_name": "Python 3",
   "language": "python",
   "name": "python3"
  },
  "language_info": {
   "codemirror_mode": {
    "name": "ipython",
    "version": 2
   },
   "file_extension": ".py",
   "mimetype": "text/x-python",
   "name": "python",
   "nbconvert_exporter": "python",
   "pygments_lexer": "ipython2",
   "version": "2.7.6"
  }
 },
 "nbformat": 4,
 "nbformat_minor": 0
}
